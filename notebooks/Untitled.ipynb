{
 "cells": [
  {
   "cell_type": "code",
   "execution_count": null,
   "metadata": {},
   "outputs": [],
   "source": [
    "import pandas as pd\n",
    "import numpy as np\n",
    "\n",
    "data = pd.read_csv('../data/interim/output.csv')\n",
    "print(\"Removing None values\")\n",
    "data = data.replace(to_replace='None', value=np.nan).dropna()\n",
    "print(data.isna().contenu.value_counts())\n",
    "\n",
    "print('Removing unwanted formations')\n",
    "unwanted_formations = ['COMMISSION_REPARATION_DETENTION', 'CHAMBRE_CIVILE', 'ASSEMBLEE_PLENIERE', 'AVIS', 'COUR_REVISION', 'CHAMBRES_REUNIES', 'CHAMBRE_MIXTE', 'COMMISSION_REVISION']\n",
    "for unwanted_formation in unwanted_formations:\n",
    "    print('dropping:', unwanted_formation)\n",
    "    data = data.drop(data[data['formation'] == unwanted_formation].index)\n",
    "\n",
    "print('Writing cleaned data to data/processed/output.csv')\n"
   ]
  },
  {
   "cell_type": "code",
   "execution_count": 12,
   "metadata": {},
   "outputs": [
    {
     "data": {
      "text/html": [
       "<div>\n",
       "<style scoped>\n",
       "    .dataframe tbody tr th:only-of-type {\n",
       "        vertical-align: middle;\n",
       "    }\n",
       "\n",
       "    .dataframe tbody tr th {\n",
       "        vertical-align: top;\n",
       "    }\n",
       "\n",
       "    .dataframe thead th {\n",
       "        text-align: right;\n",
       "    }\n",
       "</style>\n",
       "<table border=\"1\" class=\"dataframe\">\n",
       "  <thead>\n",
       "    <tr style=\"text-align: right;\">\n",
       "      <th></th>\n",
       "      <th>ID</th>\n",
       "      <th>formation</th>\n",
       "      <th>president</th>\n",
       "      <th>contenu</th>\n",
       "    </tr>\n",
       "  </thead>\n",
       "  <tbody>\n",
       "  </tbody>\n",
       "</table>\n",
       "</div>"
      ],
      "text/plain": [
       "Empty DataFrame\n",
       "Columns: [ID, formation, president, contenu]\n",
       "Index: []"
      ]
     },
     "execution_count": 12,
     "metadata": {},
     "output_type": "execute_result"
    }
   ],
   "source": [
    "data = data.drop(data[data['formation'] == 'COMMISSION_REPARATION_DETENTION'].index)\n",
    "data[data['formation']=='COMMISSION_REPARATION_DETENTION']"
   ]
  },
  {
   "cell_type": "code",
   "execution_count": null,
   "metadata": {},
   "outputs": [],
   "source": []
  }
 ],
 "metadata": {
  "kernelspec": {
   "display_name": "Python [conda env:tf] *",
   "language": "python",
   "name": "conda-env-tf-py"
  },
  "language_info": {
   "codemirror_mode": {
    "name": "ipython",
    "version": 3
   },
   "file_extension": ".py",
   "mimetype": "text/x-python",
   "name": "python",
   "nbconvert_exporter": "python",
   "pygments_lexer": "ipython3",
   "version": "3.7.5"
  }
 },
 "nbformat": 4,
 "nbformat_minor": 2
}
