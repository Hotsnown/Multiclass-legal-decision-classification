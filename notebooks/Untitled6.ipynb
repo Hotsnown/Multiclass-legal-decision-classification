{
 "cells": [
  {
   "cell_type": "code",
   "execution_count": 70,
   "metadata": {},
   "outputs": [
    {
     "name": "stderr",
     "output_type": "stream",
     "text": [
      "/home/pierre/.local/lib/python3.7/site-packages/tensorflow_core/python/framework/indexed_slices.py:433: UserWarning: Converting sparse IndexedSlices to a dense Tensor of unknown shape. This may consume a large amount of memory.\n",
      "  \"Converting sparse IndexedSlices to a dense Tensor of unknown shape. \"\n"
     ]
    },
    {
     "name": "stdout",
     "output_type": "stream",
     "text": [
      " * Serving Flask app \"__main__\" (lazy loading)\n",
      " * Environment: production\n",
      "   WARNING: Do not use the development server in a production environment.\n",
      "   Use a production WSGI server instead.\n",
      " * Debug mode: off\n"
     ]
    },
    {
     "name": "stderr",
     "output_type": "stream",
     "text": [
      " * Running on http://127.0.0.1:8080/ (Press CTRL+C to quit)\n",
      "127.0.0.1 - - [26/Jan/2020 16:03:59] \"\u001b[33mGET / HTTP/1.1\u001b[0m\" 404 -\n",
      "127.0.0.1 - - [26/Jan/2020 16:04:05] \"\u001b[1m\u001b[31mGET /predict HTTP/1.1\u001b[0m\" 405 -\n",
      "[2020-01-26 16:04:09,468] ERROR in app: Exception on /predict [POST]\n",
      "Traceback (most recent call last):\n",
      "  File \"/home/pierre/anaconda3/lib/python3.7/site-packages/flask/app.py\", line 2292, in wsgi_app\n",
      "    if exc is _sentinel:\n",
      "  File \"/home/pierre/anaconda3/lib/python3.7/site-packages/flask/app.py\", line 1815, in full_dispatch_request\n",
      "    return self.handle_http_exception(e)\n",
      "  File \"/home/pierre/anaconda3/lib/python3.7/site-packages/flask/app.py\", line 1718, in handle_user_exception\n",
      "    ``RoutingException``, used internally for actions such as\n",
      "  File \"/home/pierre/anaconda3/lib/python3.7/site-packages/flask/_compat.py\", line 35, in reraise\n",
      "  File \"/home/pierre/anaconda3/lib/python3.7/site-packages/flask/app.py\", line 1813, in full_dispatch_request\n",
      "  File \"/home/pierre/anaconda3/lib/python3.7/site-packages/flask/app.py\", line 1799, in dispatch_request\n",
      "    # we cannot prevent users from trashing it themselves in a custom\n",
      "  File \"<ipython-input-70-c98efd04674e>\", line 8, in predict\n",
      "    json_ = request.get_json()\n",
      "AttributeError: module 'request' has no attribute 'get_json'\n",
      "127.0.0.1 - - [26/Jan/2020 16:04:09] \"\u001b[1m\u001b[35mPOST /predict HTTP/1.1\u001b[0m\" 500 -\n",
      "127.0.0.1 - - [26/Jan/2020 16:05:42] \"\u001b[1m\u001b[31mGET /predict HTTP/1.1\u001b[0m\" 405 -\n",
      "127.0.0.1 - - [26/Jan/2020 16:05:45] \"\u001b[1m\u001b[31mGET /predict HTTP/1.1\u001b[0m\" 405 -\n"
     ]
    }
   ],
   "source": [
    "from flask import Flask, jsonify\n",
    "from sklearn.externals import joblib\n",
    "import pandas as pd\n",
    "\n",
    "app = Flask(__name__)\n",
    "@app.route('/predict', methods=['POST'])\n",
    "def predict():\n",
    "     json_ = request.get_json()\n",
    "     query_df = pd.DataFrame(json_)\n",
    "     query = pd.get_dummies(query_df)\n",
    "     prediction = clf.predict(query)\n",
    "     return jsonify({'prediction': list(prediction)})\n",
    "if __name__ == '__main__':\n",
    "     clf = joblib.load('../models/saved_model.pickle')\n",
    "     app.run(port=8080)"
   ]
  },
  {
   "cell_type": "code",
   "execution_count": null,
   "metadata": {},
   "outputs": [],
   "source": []
  },
  {
   "cell_type": "code",
   "execution_count": null,
   "metadata": {},
   "outputs": [],
   "source": []
  },
  {
   "cell_type": "code",
   "execution_count": null,
   "metadata": {},
   "outputs": [],
   "source": []
  },
  {
   "cell_type": "code",
   "execution_count": null,
   "metadata": {},
   "outputs": [],
   "source": []
  },
  {
   "cell_type": "code",
   "execution_count": null,
   "metadata": {},
   "outputs": [],
   "source": []
  }
 ],
 "metadata": {
  "kernelspec": {
   "display_name": "Python 3",
   "language": "python",
   "name": "python3"
  },
  "language_info": {
   "codemirror_mode": {
    "name": "ipython",
    "version": 3
   },
   "file_extension": ".py",
   "mimetype": "text/x-python",
   "name": "python",
   "nbconvert_exporter": "python",
   "pygments_lexer": "ipython3",
   "version": "3.7.3"
  }
 },
 "nbformat": 4,
 "nbformat_minor": 2
}
