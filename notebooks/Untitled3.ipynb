{
 "cells": [
  {
   "cell_type": "code",
   "execution_count": 1,
   "metadata": {},
   "outputs": [],
   "source": [
    "import pandas as pd"
   ]
  },
  {
   "cell_type": "code",
   "execution_count": 3,
   "metadata": {},
   "outputs": [],
   "source": [
    "data = pd.read_csv(\"../data/processed/output.csv\")"
   ]
  },
  {
   "cell_type": "code",
   "execution_count": 4,
   "metadata": {},
   "outputs": [
    {
     "name": "stdout",
     "output_type": "stream",
     "text": [
      "<class 'pandas.core.frame.DataFrame'>\n",
      "RangeIndex: 247431 entries, 0 to 247430\n",
      "Data columns (total 5 columns):\n",
      "ID           247431 non-null object\n",
      "contenu      247431 non-null object\n",
      "formation    247431 non-null object\n",
      "president    247431 non-null object\n",
      "LABEL        247431 non-null float64\n",
      "dtypes: float64(1), object(4)\n",
      "memory usage: 9.4+ MB\n"
     ]
    }
   ],
   "source": [
    "data.info()"
   ]
  },
  {
   "cell_type": "code",
   "execution_count": 10,
   "metadata": {},
   "outputs": [],
   "source": [
    "import numpy as np # linear algebra\n",
    "import pandas as pd # data processing, CSV file I/O (e.g. pd.read_csv)\n",
    "from keras.layers import Dense, Embedding, LSTM, SpatialDropout1D\n",
    "from keras.models import Sequential\n",
    "from sklearn.feature_extraction.text import CountVectorizer\n",
    "from keras.preprocessing.text import Tokenizer\n",
    "from keras.preprocessing.sequence import pad_sequences\n",
    "from sklearn.model_selection import train_test_split\n",
    "from keras.utils.np_utils import to_categorical\n",
    "from keras.callbacks import EarlyStopping\n",
    "\n",
    "data = pd.read_csv(\"../data/processed/output.csv\")\n",
    "\n",
    "def build_labels():\n",
    "    print(\"Building label targets...\")\n",
    "    labels = to_categorical(data[\"LABEL\"], num_classes=4)\n",
    "    return labels\n",
    "\n",
    "def build_tokens():\n",
    "    \n",
    "    print(\"Building features...\")\n",
    "    n_most_common_words = 8000\n",
    "    max_len = 130\n",
    "    \n",
    "    print(\"Building token features...\")\n",
    "    tokenizer = Tokenizer(num_words=n_most_common_words, filters='!\"#$%&()*+,-./:;<=>?@[\\]^_`{|}~', lower=True)\n",
    "    tokenizer.fit_on_texts(data[\"contenu\"].values)\n",
    "    \n",
    "    print(\"Building sequence features...\")\n",
    "    sequences = tokenizer.texts_to_sequences(data[\"contenu\"].values)\n",
    "    word_index = tokenizer.word_index\n",
    "    \n",
    "    print('Found %s unique tokens.' % len(word_index))\n",
    "    X = pad_sequences(sequences, maxlen=max_len)\n",
    "    return X"
   ]
  },
  {
   "cell_type": "code",
   "execution_count": 12,
   "metadata": {},
   "outputs": [],
   "source": [
    "import matplotlib.pyplot as plt\n",
    "import seaborn as sns \n",
    "from sklearn.metrics import confusion_matrix\n",
    "from sklearn import metrics\n",
    "import pandas as pd\n",
    "\n",
    "data = pd.read_csv('../data/processed/output.csv')\n",
    "\n",
    "def show_loss_and_acc():\n",
    "    acc = history.history['acc']\n",
    "    val_acc = history.history['val_acc']\n",
    "    loss = history.history['loss']\n",
    "    val_loss = history.history['val_loss']\n",
    "\n",
    "    epochs = range(1, len(acc) + 1)\n",
    "\n",
    "    plt.plot(epochs, acc, 'bo', label='Training acc')\n",
    "    plt.plot(epochs, val_acc, 'b', label='Validation acc')\n",
    "    plt.title('Training and validation accuracy')\n",
    "    plt.legend()\n",
    "\n",
    "    plt.figure()\n",
    "\n",
    "    plt.plot(epochs, loss, 'bo', label='Training loss')\n",
    "    plt.plot(epochs, val_loss, 'b', label='Validation loss')\n",
    "    plt.title('Training and validation loss')\n",
    "    plt.legend()\n",
    "\n",
    "    plt.show()\n",
    "\n",
    "def show_confusion_matrix(y_test, y_pred):\n",
    "    y_pred = (y_pred > 0.5)\n",
    "    conf_mat = confusion_matrix(y_test.argmax(axis=1), y_pred.argmax(axis=1))\n",
    "    fig, ax = plt.subplots(figsize=(10,10))\n",
    "    sns.heatmap(conf_mat, annot=True, fmt='d',\n",
    "                xticklabels=data.LABEL.values, yticklabels=data.LABEL.values)\n",
    "    plt.ylabel('Actual')\n",
    "    plt.xlabel('Predicted')\n",
    "    plt.title(\"CONFUSION MATRIX \\n\", size=16);\n",
    "    plt.show()\n",
    "\n",
    "def show_metrics(y_test, y_pred):\n",
    "    y_pred = (y_pred > 0.5)\n",
    "    print('\\t\\t\\t\\tCLASSIFICATIION METRICS\\n')\n",
    "    print(metrics.classification_report(y_test.argmax(axis=1), y_pred.argmax(axis=1)))"
   ]
  },
  {
   "cell_type": "code",
   "execution_count": null,
   "metadata": {},
   "outputs": [
    {
     "name": "stdout",
     "output_type": "stream",
     "text": [
      "Building label targets...\n",
      "Building features...\n",
      "Building token features...\n",
      "Building sequence features...\n",
      "Found 382345 unique tokens.\n",
      "Train: N = 185573 records\n",
      "Test:  N = 61858 records\n",
      "Reading models/saved_model.pickle...\n",
      "WARNING:tensorflow:Large dropout rate: 0.7 (>0.5). In TensorFlow 2.x, dropout() uses dropout rate instead of keep_prob. Please ensure that this is intended.\n",
      "WARNING:tensorflow:Large dropout rate: 0.7 (>0.5). In TensorFlow 2.x, dropout() uses dropout rate instead of keep_prob. Please ensure that this is intended.\n",
      "WARNING:tensorflow:Large dropout rate: 0.7 (>0.5). In TensorFlow 2.x, dropout() uses dropout rate instead of keep_prob. Please ensure that this is intended.\n",
      "WARNING:tensorflow:Large dropout rate: 0.7 (>0.5). In TensorFlow 2.x, dropout() uses dropout rate instead of keep_prob. Please ensure that this is intended.\n",
      "WARNING:tensorflow:Large dropout rate: 0.7 (>0.5). In TensorFlow 2.x, dropout() uses dropout rate instead of keep_prob. Please ensure that this is intended.\n"
     ]
    },
    {
     "name": "stderr",
     "output_type": "stream",
     "text": [
      "/home/pierre/anaconda3/lib/python3.7/site-packages/tensorflow_core/python/framework/indexed_slices.py:433: UserWarning: Converting sparse IndexedSlices to a dense Tensor of unknown shape. This may consume a large amount of memory.\n",
      "  \"Converting sparse IndexedSlices to a dense Tensor of unknown shape. \"\n",
      "/home/pierre/anaconda3/lib/python3.7/site-packages/tensorflow_core/python/framework/indexed_slices.py:433: UserWarning: Converting sparse IndexedSlices to a dense Tensor of unknown shape. This may consume a large amount of memory.\n",
      "  \"Converting sparse IndexedSlices to a dense Tensor of unknown shape. \"\n"
     ]
    },
    {
     "name": "stdout",
     "output_type": "stream",
     "text": [
      "Predicting...\n",
      "\t\t\t\tCLASSIFICATIION METRICS\n",
      "\n",
      "              precision    recall  f1-score   support\n",
      "\n",
      "           0       0.88      1.00      0.94     23732\n",
      "           1       1.00      0.99      0.99     12762\n",
      "           2       0.98      0.91      0.94     17025\n",
      "           3       1.00      0.79      0.88      8339\n",
      "\n",
      "   micro avg       0.94      0.94      0.94     61858\n",
      "   macro avg       0.96      0.92      0.94     61858\n",
      "weighted avg       0.95      0.94      0.94     61858\n",
      "\n"
     ]
    }
   ],
   "source": [
    "from sklearn.model_selection import train_test_split\n",
    "\n",
    "import pickle\n",
    "\n",
    "labels = build_labels()\n",
    "X = build_tokens()\n",
    "\n",
    "SEED = 0\n",
    "X_train, X_test, y_train, y_test = train_test_split(X , labels, test_size=0.25, random_state=SEED)\n",
    "\n",
    "print(\"Train: N = {0} records\".format(len(X_train)))\n",
    "print(\"Test:  N = {0} records\".format(len(X_test)))\n",
    "\n",
    "with open(\"../models/saved_model.pickle\", \"rb\") as file: # Use file to refer to the file object\n",
    "    \n",
    "    print('Reading models/saved_model.pickle...')\n",
    "    model_from_pickle = pickle.load(file)\n",
    "\n",
    "    print('Predicting...')\n",
    "    y_pred = model_from_pickle.predict(X_test)\n",
    "    \n",
    "    show_metrics(y_test, y_pred)\n",
    "    show_confusion_matrix(y_test, y_pred)"
   ]
  },
  {
   "cell_type": "code",
   "execution_count": null,
   "metadata": {},
   "outputs": [],
   "source": []
  }
 ],
 "metadata": {
  "kernelspec": {
   "display_name": "Python 3",
   "language": "python",
   "name": "python3"
  },
  "language_info": {
   "codemirror_mode": {
    "name": "ipython",
    "version": 3
   },
   "file_extension": ".py",
   "mimetype": "text/x-python",
   "name": "python",
   "nbconvert_exporter": "python",
   "pygments_lexer": "ipython3",
   "version": "3.7.3"
  }
 },
 "nbformat": 4,
 "nbformat_minor": 2
}
